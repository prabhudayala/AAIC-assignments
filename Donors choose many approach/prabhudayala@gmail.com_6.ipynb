{
 "cells": [
  {
   "cell_type": "code",
   "execution_count": 1,
   "metadata": {
    "colab": {},
    "colab_type": "code",
    "id": "REYPoTJ1Af7u"
   },
   "outputs": [],
   "source": [
    "import warnings\n",
    "warnings.filterwarnings(\"ignore\")\n",
    "from sklearn.datasets import load_boston\n",
    "from random import seed\n",
    "from random import randrange\n",
    "from csv import reader\n",
    "from math import sqrt\n",
    "from sklearn import preprocessing\n",
    "import pandas as pd\n",
    "import numpy as np\n",
    "import matplotlib.pyplot as plt\n",
    "from prettytable import PrettyTable\n",
    "from sklearn.linear_model import SGDRegressor\n",
    "from sklearn import preprocessing\n",
    "from sklearn.metrics import mean_squared_error"
   ]
  },
  {
   "cell_type": "code",
   "execution_count": 2,
   "metadata": {
    "colab": {},
    "colab_type": "code",
    "id": "NTQ2iH-kAwbo"
   },
   "outputs": [],
   "source": [
    "X = load_boston().data\n",
    "Y = load_boston().target"
   ]
  },
  {
   "cell_type": "code",
   "execution_count": 3,
   "metadata": {
    "colab": {},
    "colab_type": "code",
    "id": "FgUW39s6Be0U"
   },
   "outputs": [],
   "source": [
    "scaler = preprocessing.StandardScaler().fit(X)\n",
    "X = scaler.transform(X)"
   ]
  },
  {
   "cell_type": "code",
   "execution_count": 4,
   "metadata": {
    "colab": {
     "base_uri": "https://localhost:8080/",
     "height": 34
    },
    "colab_type": "code",
    "executionInfo": {
     "elapsed": 879,
     "status": "ok",
     "timestamp": 1545718892607,
     "user": {
      "displayName": "Applied AI Course",
      "photoUrl": "https://lh5.googleusercontent.com/-9_3A9F-kDXs/AAAAAAAAAAI/AAAAAAAAACw/IprjYvUuoXQ/s64/photo.jpg",
      "userId": "00484516897554883881"
     },
     "user_tz": -330
    },
    "id": "HNu1sXtEBBS2",
    "outputId": "a0c5d3d0-345c-4a34-8ccf-0d9f3d7d23fd"
   },
   "outputs": [
    {
     "name": "stdout",
     "output_type": "stream",
     "text": [
      "-- Epoch 1\n",
      "Norm: 4.63, NNZs: 13, Bias: 17.253495, T: 506, Avg. loss: 87.619864\n",
      "Total training time: 0.00 seconds.\n",
      "-- Epoch 2\n",
      "Norm: 5.29, NNZs: 13, Bias: 20.531720, T: 1012, Avg. loss: 18.734666\n",
      "Total training time: 0.00 seconds.\n",
      "-- Epoch 3\n",
      "Norm: 5.54, NNZs: 13, Bias: 21.657449, T: 1518, Avg. loss: 13.143894\n",
      "Total training time: 0.00 seconds.\n",
      "-- Epoch 4\n",
      "Norm: 5.74, NNZs: 13, Bias: 22.106832, T: 2024, Avg. loss: 12.062084\n",
      "Total training time: 0.00 seconds.\n",
      "-- Epoch 5\n",
      "Norm: 5.81, NNZs: 13, Bias: 22.326466, T: 2530, Avg. loss: 11.780476\n",
      "Total training time: 0.00 seconds.\n",
      "22.876298785317328\n",
      "[-0.67768914  0.67380813 -0.41156522  0.73991173 -0.9884379   3.16959099\n",
      " -0.0297047  -1.9374856   0.87153084 -0.54908636 -1.82626651  0.87503696\n",
      " -3.49779664]\n",
      "[22.32646649]\n"
     ]
    }
   ],
   "source": [
    "clf = SGDRegressor(verbose=5)\n",
    "clf.fit(X, Y)\n",
    "print(mean_squared_error(Y, clf.predict(X)))\n",
    "print(clf.coef_)\n",
    "print(clf.intercept_)"
   ]
  },
  {
   "cell_type": "code",
   "execution_count": 5,
   "metadata": {},
   "outputs": [
    {
     "name": "stdout",
     "output_type": "stream",
     "text": [
      "(506, 13)\n",
      "(506,)\n",
      "(506, 14)\n",
      ">epoch=0, lrate=0.083, error=13733.971\n",
      ">epoch=500, lrate=0.000, error=1757.862\n",
      "[22.532266705022188, -1.0012731329690208, 0.8683269275269782, -0.517582513802867, 1.2238993614240108, -2.234957769039841, 2.4500910709717094, -0.22513667881422142, -3.1522334140075077, 1.6370779894625853, -0.41843311057737453, -1.8441773241195654, 0.5833651538640957, -4.085601411613757]\n"
     ]
    }
   ],
   "source": [
    "#https://machinelearningmastery.com/implement-linear-regression-stochastic-gradient-descent-scratch-python/\n",
    "# Make a prediction with coefficients\n",
    "def predict(row, coefficients):\n",
    "    yhat = coefficients[0]\n",
    "    for i in range(len(row)-1):\n",
    "        yhat += coefficients[i + 1] * row[i]\n",
    "    return yhat\n",
    "\n",
    "# Estimate linear regression coefficients using stochastic gradient descent\n",
    "def coefficients_sgd(train, l_rate, n_epoch,batch_size=1):\n",
    "    coef = [0.0 for i in range(len(train[0]))]\n",
    "    epoch_array=[]\n",
    "    sum_error_list=[]\n",
    "    loss_test_list=[]\n",
    "    for epoch in range(n_epoch):\n",
    "        l_rate/=1.2\n",
    "        sum_error = 0\n",
    "        batch_random=np.random.randint(0,505,batch_size)\n",
    "        miniSizeData=[]\n",
    "        for j in batch_random:\n",
    "            miniSizeData.append(train[j])\n",
    "        #print(len(miniSizeData))\n",
    "        for row in miniSizeData:\n",
    "            yhat = predict(row, coef)\n",
    "            error = yhat - row[-1]\n",
    "            sum_error += error**2\n",
    "            coef[0] = coef[0] - l_rate * error\n",
    "            for i in range(len(row)-1):\n",
    "                coef[i + 1] = coef[i + 1] - l_rate * error * row[i]\n",
    "        if(epoch%500==0):\n",
    "            print('>epoch=%d, lrate=%.3f, error=%.3f' % (epoch, l_rate, sum_error))\n",
    "        if(epoch%10==0):\n",
    "            loss_test=0\n",
    "            for k in train:\n",
    "                loss_test+=(k[-1]-predict(k,coef))**2\n",
    "            loss_test=loss_test/506\n",
    "            #print(loss_test)\n",
    "            loss_test_list.append(loss_test)\n",
    "            epoch_array.append(epoch)\n",
    "            sum_error_list.append(sum_error)\n",
    "        \n",
    "    return (coef,epoch_array,sum_error_list,loss_test_list)\n",
    "\n",
    "# Calculate coefficients\n",
    "print(X.shape)\n",
    "print(Y.shape)\n",
    "dataset=np.hstack((X,Y.reshape(-1,1)))\n",
    "print(dataset.shape)\n",
    "l_rate = 0.1\n",
    "n_epoch = 1000\n",
    "batch_size=50\n",
    "coef,epoc_list,error_list,test_loss_list = coefficients_sgd(dataset, l_rate, n_epoch,batch_size)\n",
    "print(coef)"
   ]
  },
  {
   "cell_type": "code",
   "execution_count": 6,
   "metadata": {},
   "outputs": [
    {
     "data": {
      "image/png": "[encoded data removed]",
      "text/plain": [
       "<Figure size 432x288 with 1 Axes>"
      ]
     },
     "metadata": {},
     "output_type": "display_data"
    }
   ],
   "source": [
    "import matplotlib.pyplot as plt\n",
    "plt.plot(epoc_list,error_list)\n",
    "plt.plot(epoc_list,test_loss_list)\n",
    "plt.legend({\"train error\":\"\",\"test error\":\"\"})\n",
    "plt.xlabel(\"iterations\")\n",
    "plt.ylabel(\"error\")\n",
    "plt.show()"
   ]
  },
  {
   "cell_type": "markdown",
   "metadata": {},
   "source": [
    "## Personal Observations:\n",
    "##### 1. As train error and test error are coinciding, it seems that this could be achieved with smaller number of iterations. \n",
    "###### 2. As the test error never incresed suddenly/drastically, it prooves that model is not overfitting to train data.\n",
    "##### 3. Seems like a ideal model to me."
   ]
  },
  {
   "cell_type": "code",
   "execution_count": 7,
   "metadata": {},
   "outputs": [
    {
     "name": "stdout",
     "output_type": "stream",
     "text": [
      "MSE is:  22.656399816553336\n"
     ]
    }
   ],
   "source": [
    "loss_test=0\n",
    "for k in dataset:\n",
    "    loss_test+=(k[-1]-predict(k,coef))**2\n",
    "loss_test=loss_test/506\n",
    "print(\"MSE is: \",loss_test)"
   ]
  },
  {
   "cell_type": "code",
   "execution_count": 8,
   "metadata": {},
   "outputs": [],
   "source": [
    "prediction_after=[]\n",
    "for i in range(506):\n",
    "    prediction_after.append(predict(X[i],coef))"
   ]
  },
  {
   "cell_type": "code",
   "execution_count": 9,
   "metadata": {},
   "outputs": [
    {
     "data": {
      "text/plain": [
       "<matplotlib.legend.Legend at 0x20df1b11748>"
      ]
     },
     "execution_count": 9,
     "metadata": {},
     "output_type": "execute_result"
    },
    {
     "data": {
      "image/png": "[encoded data removed]",
      "text/plain": [
       "<Figure size 432x288 with 1 Axes>"
      ]
     },
     "metadata": {},
     "output_type": "display_data"
    }
   ],
   "source": [
    "plt.plot(clf.predict(X),Y,'go')\n",
    "plt.plot(prediction_after,Y,'ro')\n",
    "plt.grid()\n",
    "plt.title(\"Predicted value VS Actual value for each house\")\n",
    "plt.xlabel(\"Predicted\")\n",
    "plt.ylabel(\"Actual\")\n",
    "plt.legend({\"SGD sklearn model\":\"\",\"My Model\":\"\"})"
   ]
  },
  {
   "cell_type": "code",
   "execution_count": 10,
   "metadata": {},
   "outputs": [
    {
     "name": "stdout",
     "output_type": "stream",
     "text": [
      "+--------------------+-----------------------+----------------------+\n",
      "|     parameter      |    SGD scikit learn   |       SGD Self       |\n",
      "+--------------------+-----------------------+----------------------+\n",
      "|      Weight1       |  -0.6776891434877932  | -1.0012731329690208  |\n",
      "|      Weight2       |   0.6738081252106184  |  0.8683269275269782  |\n",
      "|      Weight3       |  -0.41156521935717855 |  -0.517582513802867  |\n",
      "|      Weight4       |   0.7399117300927041  |  1.2238993614240108  |\n",
      "|      Weight5       |  -0.9884379046448893  |  -2.234957769039841  |\n",
      "|      Weight6       |   3.1695909915160487  |  2.4500910709717094  |\n",
      "|      Weight7       | -0.029704695287332872 | -0.22513667881422142 |\n",
      "|      Weight8       |   -1.937485595018574  | -3.1522334140075077  |\n",
      "|      Weight9       |   0.8715308355259027  |  1.6370779894625853  |\n",
      "|      Weight10      |  -0.5490863614174125  | -0.41843311057737453 |\n",
      "|      Weight11      |  -1.8262665064557841  | -1.8441773241195654  |\n",
      "|      Weight12      |   0.8750369554627591  |  0.5833651538640957  |\n",
      "|      Weight13      |   -3.497796642436372  |  -4.085601411613757  |\n",
      "|     Intercept      |   22.32646649388391   |  22.532266705022188  |\n",
      "| Mean Squared error |   22.876298785317328  |  22.656399816553336  |\n",
      "+--------------------+-----------------------+----------------------+\n"
     ]
    }
   ],
   "source": [
    "from prettytable import PrettyTable\n",
    "    \n",
    "x = PrettyTable()\n",
    "\n",
    "x.field_names = [\"parameter\",\"SGD scikit learn\", \"SGD Self\"]\n",
    "\n",
    "for i in range(len(coef)-1):\n",
    "    x.add_row([\"Weight\"+str(i+1),clf.coef_[i],coef[i+1]])\n",
    "x.add_row([\"Intercept\",clf.intercept_[0],coef[0]])\n",
    "x.add_row([\"Mean Squared error\",mean_squared_error(Y, clf.predict(X)),loss_test])\n",
    "print(x)"
   ]
  },
  {
   "cell_type": "markdown",
   "metadata": {},
   "source": [
    "##### This method is using pre trained StandardScaler()."
   ]
  },
  {
   "cell_type": "code",
   "execution_count": 11,
   "metadata": {},
   "outputs": [
    {
     "name": "stdout",
     "output_type": "stream",
     "text": [
      "for query point ->  [0.14866, 0.0, 8.56, 0.0, 0.52, 6.727, 79.9, 2.7778, 5.0, 384.0, 20.9, 394.76, 9.42]\n",
      "My Prediction will be:  25.235892808273846\n"
     ]
    }
   ],
   "source": [
    "new_point_list= [1.4866e-01,0.0000e+00,8.5600e+00,0.0000e+00,5.2000e-01,6.7270e+00,7.9900e+01,2.7778e+00,5.0000e+00,3.8400e+02,2.0900e+01,3.9476e+02,9.4200e+00]\n",
    "print(\"for query point -> \",new_point_list)\n",
    "new_point = np.array(new_point_list)\n",
    "new_point= new_point.reshape(1,13)\n",
    "after_standardization = scaler.transform(new_point)\n",
    "after_standardization=after_standardization[0]\n",
    "pred=coef[0]\n",
    "for j in range(0,13):\n",
    "    pred+=after_standardization[j]*coef[j+1]\n",
    "print(\"My Prediction will be: \",pred)"
   ]
  },
  {
   "cell_type": "markdown",
   "metadata": {},
   "source": [
    "##### Without standardization of query point, while our model is trained on standardized points, I dont know how to predict. I think its not possible. Please let me know"
   ]
  },
  {
   "cell_type": "code",
   "execution_count": null,
   "metadata": {},
   "outputs": [],
   "source": []
  }
 ],
 "metadata": {
  "colab": {
   "name": "Untitled3.ipynb",
   "provenance": [],
   "version": "0.3.2"
  },
  "kernelspec": {
   "display_name": "Python 3",
   "language": "python",
   "name": "python3"
  },
  "language_info": {
   "codemirror_mode": {
    "name": "ipython",
    "version": 3
   },
   "file_extension": ".py",
   "mimetype": "text/x-python",
   "name": "python",
   "nbconvert_exporter": "python",
   "pygments_lexer": "ipython3",
   "version": "3.6.8"
  }
 },
 "nbformat": 4,
 "nbformat_minor": 1
}
